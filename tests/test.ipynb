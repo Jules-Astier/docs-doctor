{
 "cells": [
  {
   "cell_type": "code",
   "execution_count": null,
   "metadata": {},
   "outputs": [
    {
     "name": "stdout",
     "output_type": "stream",
     "text": [
      "243 96\n"
     ]
    }
   ],
   "source": [
    "import requests\n",
    "\n",
    "models = requests.get(\"https://openrouter.ai/api/v1/models\").json()['data']\n",
    "res = requests.get(\"https://openrouter.ai/api/v1/models/google/gemini-2.0-flash-001/endpoints\").json()\n",
    "tool_models = []\n",
    "for model in models:\n",
    "\tendpoints = requests.get(f\"https://openrouter.ai/api/v1/models/{model['id']}/endpoints\").json()['data']['endpoints']\n",
    "\tfor endpoint in endpoints:\n",
    "\t\tif \"tools\" in endpoint['supported_parameters']:\n",
    "\t\t\tprint(endpoint)\n",
    "\t\t\ttool_models.append(model)\n",
    "\t\t\tbreak\n",
    "\n",
    "print(len(models), len(tool_models))"
   ]
  },
  {
   "cell_type": "code",
   "execution_count": 8,
   "metadata": {},
   "outputs": [
    {
     "name": "stdout",
     "output_type": "stream",
     "text": [
      "0\n"
     ]
    },
    {
     "data": {
      "text/plain": [
       "[]"
      ]
     },
     "execution_count": 8,
     "metadata": {},
     "output_type": "execute_result"
    }
   ],
   "source": [
    "import requests\n",
    "from concurrent.futures import ThreadPoolExecutor\n",
    "from functools import partial\n",
    "\n",
    "def check_model_tools(model):\n",
    "    try:\n",
    "        endpoints = requests.get(f\"https://openrouter.ai/api/v1/models/{model['id']}/endpoints\").json()['data']['endpoints']\n",
    "        for endpoint in endpoints:\n",
    "            if (\"tools\" in endpoint['supported_parameters']) and (endpoint['pricing']['completion'] == 'completion'):\n",
    "                return model\n",
    "    except Exception as e:\n",
    "        print(f\"Error checking {model['id']}: {e}\")\n",
    "    return None\n",
    "\n",
    "# Get all models\n",
    "models = requests.get(\"https://openrouter.ai/api/v1/models\").json()['data']\n",
    "\n",
    "# Process models in parallel\n",
    "with ThreadPoolExecutor(max_workers=10) as executor:\n",
    "    results = list(filter(None, executor.map(check_model_tools, models)))\n",
    "\n",
    "tool_models = results\n",
    "print(len(tool_models))\n",
    "tool_models"
   ]
  }
 ],
 "metadata": {
  "kernelspec": {
   "display_name": "Python 3",
   "language": "python",
   "name": "python3"
  },
  "language_info": {
   "codemirror_mode": {
    "name": "ipython",
    "version": 3
   },
   "file_extension": ".py",
   "mimetype": "text/x-python",
   "name": "python",
   "nbconvert_exporter": "python",
   "pygments_lexer": "ipython3",
   "version": "3.12.8"
  }
 },
 "nbformat": 4,
 "nbformat_minor": 2
}
